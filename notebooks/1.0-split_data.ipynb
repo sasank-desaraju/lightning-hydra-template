{
 "cells": [
  {
   "cell_type": "markdown",
   "metadata": {},
   "source": [
    "# Create Data Splits (Train, Validation, Test)\n",
    "\n",
    "This notebook is to guide you on splitting your data into training, validation, and test sets.\n",
    "A \"split\" is hereby defined as a named collection of a master dataset, and 3 disjoint subsets of that dataset: train, validation, and test.\n",
    "These are stored as 4 separate CSV files in a named folder in the `splits` directory. E.g. `splits/my_split/train.csv`, `splits/my_split/validation.csv`, `splits/my_split/test.csv`, and `splits/my_split/master.csv`.\n",
    "Each line of the CSV files contains multiple columns to hold both file names of volumes (e.g. CT scans) and also plaintext information such as the presence of a tumor (0 or 1).\n",
    "\n",
    "Keeping the master csv and naming each split allows us to keep track of the data used for a particular model checkpoint.\n",
    "This allows us to prune out bad/corrupted data points from the master set and not include them in any of the train/val/test datasets.\n",
    "Contaminated data does happen and can ruin a model if we are not careful.\n",
    "\n",
    "Image \"volumes\" refers to large data such as 3D CT images OR their corresponding, equally large, segmentation labels.\n",
    "With this system, these image volumes can be stored anywhere on the file system and the CSV holds only the path names relative to wherever the image directory is.\n",
    "We supply the image/label source directory for volumes in our configuration file (or .env file) so that our code (DataModule/Dataset) knows where to look.\n",
    "**note to self** - in the datamodule initialization, check that all paths are valid and that the files exist."
   ]
  },
  {
   "cell_type": "code",
   "execution_count": 5,
   "metadata": {},
   "outputs": [],
   "source": [
    "import rootutils\n",
    "import os\n",
    "root = rootutils.setup_root(search_from=os.getcwd(), indicator=\".project-root\", dotenv=True, pythonpath=True, cwd=True)"
   ]
  },
  {
   "cell_type": "markdown",
   "metadata": {},
   "source": [
    "Below, we set the variables for the source CSV, split name, and the split ratios.\n",
    "Notice we remove the test set from the train set **before** splitting the train set into train and val sets.\n",
    "Thus, if both TEST_SIZE and VAL_SIZE are 0.2, the final split will be (.8 * .8 =) 64% train, (.8 * .2 =) 16% val, and 20% test."
   ]
  },
  {
   "cell_type": "code",
   "execution_count": 6,
   "metadata": {},
   "outputs": [],
   "source": [
    "CSV_SRC = 'splits/spleen.csv'\n",
    "SPLIT_NAME = 'MySplit'\n",
    "TEST_SIZE = 0.2\n",
    "VAL_SIZE = 0.2"
   ]
  },
  {
   "cell_type": "code",
   "execution_count": 8,
   "metadata": {},
   "outputs": [],
   "source": [
    "from sklearn.model_selection import train_test_split\n",
    "import csv\n",
    "import pandas as pd\n",
    "\n",
    "# Load the data from the CSV source\n",
    "dataframe = pd.read_csv(os.path.join(root, CSV_SRC))\n",
    "\n",
    "# Split the data into train and test sets\n",
    "# Notice we remove the test set from the train set before splitting the train set into train and val sets\n",
    "# Thus, if both TEST_SIZE and VAL_SIZE are 0.2, the final split will be (.8 * .8 =) 64% train, (.8 * .2 =) 16% val, and 20% test\n",
    "train_val, test = train_test_split(dataframe, test_size=TEST_SIZE, random_state=42)\n",
    "train, val = train_test_split(train_val, test_size=VAL_SIZE, random_state=42)\n",
    "\n",
    "# Make the named split directory inside of the splits directory\n",
    "split_dir = os.path.join(root, 'splits', SPLIT_NAME)\n",
    "if not os.path.exists(split_dir):\n",
    "    os.makedirs(split_dir)\n",
    "\n",
    "# Write the master, train, val, and test data to CSV files\n",
    "dataframe.to_csv(os.path.join(split_dir, SPLIT_NAME + '.csv'), index=False)\n",
    "train.to_csv(os.path.join(split_dir, 'train_' + SPLIT_NAME + '.csv'), index=False)\n",
    "val.to_csv(os.path.join(split_dir, 'val_' + SPLIT_NAME + '.csv'), index=False)\n",
    "test.to_csv(os.path.join(split_dir, 'test_' + SPLIT_NAME + '.csv'), index=False)"
   ]
  }
 ],
 "metadata": {
  "kernelspec": {
   "display_name": "monai",
   "language": "python",
   "name": "python3"
  },
  "language_info": {
   "codemirror_mode": {
    "name": "ipython",
    "version": 3
   },
   "file_extension": ".py",
   "mimetype": "text/x-python",
   "name": "python",
   "nbconvert_exporter": "python",
   "pygments_lexer": "ipython3",
   "version": "3.10.14"
  }
 },
 "nbformat": 4,
 "nbformat_minor": 2
}
