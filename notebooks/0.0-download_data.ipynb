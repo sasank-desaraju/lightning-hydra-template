{
 "cells": [
  {
   "cell_type": "markdown",
   "metadata": {},
   "source": [
    "# Download Dataset\n",
    "\n",
    "**You will likely not use this notebook if you are creating your research project with your own new data.**\n",
    "\n",
    "This is for downloading a dataset from the internet, as for our example with the [MedMNIST](https://zenodo.org/records/10519652) dataset.\n",
    "Your dataset will likely be uploaded from wherever you collected your data."
   ]
  },
  {
   "cell_type": "code",
   "execution_count": 1,
   "metadata": {},
   "outputs": [
    {
     "name": "stdout",
     "output_type": "stream",
     "text": [
      "/blue/prismap-ai-core/sasank.desaraju/projects/lightning-hydra-template/notebooks\n"
     ]
    }
   ],
   "source": [
    "!pwd"
   ]
  },
  {
   "cell_type": "markdown",
   "metadata": {},
   "source": [
    "Let's first set up where our data will be downloaded to.\n",
    "We're going to use a clever package called `rootutils` to help us with this.\n",
    "Let's (1) ensure that the empty file \".project-root\" is in the root of our project, and (2) add our chosen data directory to a new \".env\" file.\n",
    "For this second part, copy the file \".env.example\" to \".env\" and add the path to your data directory.\n"
   ]
  },
  {
   "cell_type": "code",
   "execution_count": 6,
   "metadata": {},
   "outputs": [
    {
     "name": "stdout",
     "output_type": "stream",
     "text": [
      "current file is  /blue/prismap-ai-core/sasank.desaraju/projects/lightning-hydra-template\n",
      "/blue/prismap-ai-core/sasank.desaraju/projects/lightning-hydra-template\n",
      "/blue/prismap-ai-core/sasank.desaraju/projects/lightning-hydra-template/data/\n"
     ]
    }
   ],
   "source": [
    "import rootutils\n",
    "import os\n",
    "root = rootutils.setup_root(search_from=os.getcwd(), indicator=\".project-root\", dotenv=True, pythonpath=True, cwd=True)\n",
    "# Print the root directory\n",
    "print(root)\n",
    "# Print the environment variable DATA_DIR\n",
    "print(os.environ[\"DATA_DIR\"])"
   ]
  },
  {
   "cell_type": "markdown",
   "metadata": {},
   "source": [
    "We will now download our dataset to the data directory we specified in the \".env\" file:"
   ]
  },
  {
   "cell_type": "code",
   "execution_count": 8,
   "metadata": {},
   "outputs": [
    {
     "name": "stdout",
     "output_type": "stream",
     "text": [
      "Data will be downloaded to /blue/prismap-ai-core/sasank.desaraju/projects/lightning-hydra-template/data/Task09_Spleen\n"
     ]
    },
    {
     "name": "stderr",
     "output_type": "stream",
     "text": [
      "Task09_Spleen.tar: 1.50GB [01:28, 18.2MB/s]                               \n"
     ]
    },
    {
     "name": "stdout",
     "output_type": "stream",
     "text": [
      "2024-07-11 13:09:33,707 - INFO - Downloaded: /blue/prismap-ai-core/sasank.desaraju/projects/lightning-hydra-template/data/Task09_Spleen.tar\n",
      "2024-07-11 13:09:40,167 - INFO - Verified 'Task09_Spleen.tar', md5: 410d4a301da4e5b2f6f86ec3ddba524e.\n",
      "2024-07-11 13:09:40,169 - INFO - Writing into directory: /blue/prismap-ai-core/sasank.desaraju/projects/lightning-hydra-template/data/.\n"
     ]
    }
   ],
   "source": [
    "import monai\n",
    "import os\n",
    "\n",
    "# download the data if it's not already downloaded\n",
    "resource = \"https://msd-for-monai.s3-us-west-2.amazonaws.com/Task09_Spleen.tar\"\n",
    "md5 = \"410d4a301da4e5b2f6f86ec3ddba524e\"\n",
    "data_dir = os.environ[\"DATA_DIR\"]\n",
    "extract_dir = os.path.join(data_dir, \"Task09_Spleen\")\n",
    "\n",
    "compressed_file = os.path.join(data_dir, \"Task09_Spleen.tar\")\n",
    "if not os.path.exists(extract_dir):\n",
    "    # print the directory it will be downloaded to\n",
    "    print(f\"Data will be downloaded to {extract_dir}\")\n",
    "    monai.apps.download_and_extract(resource, compressed_file, data_dir, md5)"
   ]
  },
  {
   "cell_type": "markdown",
   "metadata": {},
   "source": [
    "Now, let's create a master CSV file that contains the filenames of all of the images and labels in our dataset.\n",
    "We'll talk more about why this is important in the [next notebook](1.0-create_splits.ipynb).\n",
    "\n",
    "We'll use only the images and labels from the training set (`imageTr` and `labelTr`, respectively), as this dataset does not have annotated labels for its test set (`imageTs`).\n",
    "Let's put the resulting CSV file, called \"spleen.csv\", in the `splits` directory.\n",
    "\n",
    "This whole notebook is specific to this dataset and may not generalize to other datasets.\n",
    "You may already have a CSV file that contains information about your dataset."
   ]
  },
  {
   "cell_type": "code",
   "execution_count": 19,
   "metadata": {},
   "outputs": [
    {
     "name": "stdout",
     "output_type": "stream",
     "text": [
      "/blue/prismap-ai-core/sasank.desaraju/projects/lightning-hydra-template/data/\n",
      "/blue/prismap-ai-core/sasank.desaraju/projects/lightning-hydra-template/data/Task09_Spleen/imagesTr\n",
      "['imagesTs', '._dataset.json', 'labelsTr', 'dataset.json', '._labelsTr', '._imagesTs', '._imagesTr', 'imagesTr']\n",
      "['spleen_38.nii.gz', '._spleen_20.nii.gz', 'spleen_32.nii.gz', 'spleen_16.nii.gz', 'spleen_59.nii.gz', '._spleen_28.nii.gz', '._spleen_60.nii.gz', 'spleen_22.nii.gz', 'spleen_24.nii.gz', '._spleen_31.nii.gz', '._spleen_25.nii.gz', 'spleen_41.nii.gz', 'spleen_2.nii.gz', '._spleen_26.nii.gz', 'spleen_56.nii.gz', '._spleen_3.nii.gz', 'spleen_47.nii.gz', '._spleen_46.nii.gz', '._spleen_62.nii.gz', 'spleen_14.nii.gz', '._spleen_45.nii.gz', 'spleen_10.nii.gz', 'spleen_13.nii.gz', '._spleen_52.nii.gz', 'spleen_25.nii.gz', '._spleen_16.nii.gz', '._spleen_19.nii.gz', 'spleen_33.nii.gz', '._spleen_13.nii.gz', 'spleen_6.nii.gz', 'spleen_49.nii.gz', '._spleen_2.nii.gz', 'spleen_60.nii.gz', 'spleen_27.nii.gz', '._spleen_29.nii.gz', 'spleen_46.nii.gz', '._spleen_10.nii.gz', '._spleen_38.nii.gz', '._spleen_59.nii.gz', '._spleen_47.nii.gz', 'spleen_8.nii.gz', 'spleen_26.nii.gz', 'spleen_9.nii.gz', 'spleen_45.nii.gz', '._spleen_8.nii.gz', 'spleen_20.nii.gz', '._spleen_27.nii.gz', 'spleen_62.nii.gz', 'spleen_31.nii.gz', '._spleen_22.nii.gz', '._spleen_17.nii.gz', '._spleen_40.nii.gz', '._spleen_53.nii.gz', 'spleen_12.nii.gz', 'spleen_19.nii.gz', 'spleen_17.nii.gz', '._spleen_12.nii.gz', '._spleen_49.nii.gz', '._spleen_18.nii.gz', '._spleen_32.nii.gz', 'spleen_18.nii.gz', '._spleen_61.nii.gz', '._spleen_14.nii.gz', '._spleen_24.nii.gz', '._spleen_21.nii.gz', '._spleen_41.nii.gz', 'spleen_40.nii.gz', '._spleen_44.nii.gz', 'spleen_29.nii.gz', '._spleen_63.nii.gz', 'spleen_28.nii.gz', '._spleen_6.nii.gz', 'spleen_44.nii.gz', '._spleen_33.nii.gz', 'spleen_63.nii.gz', '._spleen_9.nii.gz', 'spleen_3.nii.gz', 'spleen_52.nii.gz', '._spleen_56.nii.gz', 'spleen_61.nii.gz', 'spleen_53.nii.gz', 'spleen_21.nii.gz']\n",
      "['spleen_10.nii.gz', 'spleen_12.nii.gz', 'spleen_13.nii.gz', 'spleen_14.nii.gz', 'spleen_16.nii.gz', 'spleen_17.nii.gz', 'spleen_18.nii.gz', 'spleen_19.nii.gz', 'spleen_2.nii.gz', 'spleen_20.nii.gz', 'spleen_21.nii.gz', 'spleen_22.nii.gz', 'spleen_24.nii.gz', 'spleen_25.nii.gz', 'spleen_26.nii.gz', 'spleen_27.nii.gz', 'spleen_28.nii.gz', 'spleen_29.nii.gz', 'spleen_3.nii.gz', 'spleen_31.nii.gz', 'spleen_32.nii.gz', 'spleen_33.nii.gz', 'spleen_38.nii.gz', 'spleen_40.nii.gz', 'spleen_41.nii.gz', 'spleen_44.nii.gz', 'spleen_45.nii.gz', 'spleen_46.nii.gz', 'spleen_47.nii.gz', 'spleen_49.nii.gz', 'spleen_52.nii.gz', 'spleen_53.nii.gz', 'spleen_56.nii.gz', 'spleen_59.nii.gz', 'spleen_6.nii.gz', 'spleen_60.nii.gz', 'spleen_61.nii.gz', 'spleen_62.nii.gz', 'spleen_63.nii.gz', 'spleen_8.nii.gz', 'spleen_9.nii.gz']\n",
      "CSV file saved to /blue/prismap-ai-core/sasank.desaraju/projects/lightning-hydra-template/splits/spleen.csv\n"
     ]
    }
   ],
   "source": [
    "# Create a CSV with \n",
    "# The header row should be \"image,label\"\n",
    "# The images should be just the filenames relative to imagesTr\n",
    "# The labels should be the filenames relative to labelsTr\n",
    "# Let's save the CSV file to the `splits` directory\n",
    "import csv\n",
    "import glob\n",
    "\n",
    "image_dir = os.path.join(data_dir, \"Task09_Spleen/imagesTr\")\n",
    "label_dir = os.path.join(data_dir, \"Task09_Spleen/labelsTr\")\n",
    "\n",
    "# make a list of the files in both directories while excluding the ones that start with \"_\"\n",
    "image_files = sorted([os.path.basename(f) for f in glob.glob(os.path.join(image_dir, \"*.nii.gz\")) if not os.path.basename(f).startswith(\"_\")])\n",
    "label_files = sorted([os.path.basename(f) for f in glob.glob(os.path.join(label_dir, \"*.nii.gz\")) if not os.path.basename(f).startswith(\"_\")])\n",
    "print(image_files)\n",
    "\n",
    "# confirm that the files are the same\n",
    "assert image_files == label_files\n",
    "\n",
    "# create a list of tuples with the image and label filenames\n",
    "data = [(image, label) for image, label in zip(image_files, label_files)]\n",
    "\n",
    "# write the data to a CSV file with the header \"image,label\"\n",
    "csv_file = os.path.join(root, \"splits/spleen.csv\")\n",
    "with open(csv_file, \"w\", newline=\"\") as f:\n",
    "    writer = csv.writer(f)\n",
    "    writer.writerow([\"image\", \"label\"])\n",
    "    writer.writerows(data)\n",
    "\n",
    "print(f\"CSV file saved to {csv_file}\")"
   ]
  }
 ],
 "metadata": {
  "kernelspec": {
   "display_name": "Python 3",
   "language": "python",
   "name": "python3"
  },
  "language_info": {
   "codemirror_mode": {
    "name": "ipython",
    "version": 3
   },
   "file_extension": ".py",
   "mimetype": "text/x-python",
   "name": "python",
   "nbconvert_exporter": "python",
   "pygments_lexer": "ipython3",
   "version": "3.10.14"
  }
 },
 "nbformat": 4,
 "nbformat_minor": 2
}
